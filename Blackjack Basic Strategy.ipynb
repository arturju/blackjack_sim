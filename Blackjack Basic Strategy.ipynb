{
 "cells": [
  {
   "cell_type": "markdown",
   "metadata": {},
   "source": [
    "## What is Blackjack?\n",
    "\n",
    "#### Objective:\n",
    "Get a card value closer to 21 than the dealer. Going over is automatic loss\n",
    "\n",
    "#### Rules:\n",
    "- Dealer must hit on hard 16\n",
    "- Card values given below\n",
    "\n",
    "<img src=\"img/Blackjack-values.png\"> </img>\n",
    "\n",
    "#### Payout*:\n",
    "- Player getting blackjack (21) pays out 3:2\n",
    "- Player beating dealer pays 1:1\n",
    "\n",
    "*Other game/pay types exist. Usually not worth paying"
   ]
  },
  {
   "cell_type": "markdown",
   "metadata": {},
   "source": [
    "## Basic Strategy tells us what to do:\n",
    "\n",
    "|                 |   |  |\n",
    "| ----------- | ----------- | ----------- |\n",
    "|<img src=\"img/basic_strategy1.JPG\"></img>|<img src=\"img/basic_strategy2.JPG\"></img>|<img src=\"img/basic_strategy3.JPG\"></img>  |\n"
   ]
  },
  {
   "cell_type": "markdown",
   "metadata": {},
   "source": [
    "...but where does it come from? Let's find out"
   ]
  },
  {
   "cell_type": "code",
   "execution_count": 8,
   "metadata": {},
   "outputs": [],
   "source": [
    "%matplotlib notebook\n",
    "\n",
    "import random\n",
    "import matplotlib.pyplot as plt\n",
    "import numpy as np"
   ]
  },
  {
   "cell_type": "code",
   "execution_count": 92,
   "metadata": {},
   "outputs": [],
   "source": [
    "ACE = 1  # or 11, ignore for now\n",
    "KING = 10\n",
    "QUEEN = 10\n",
    "JACK = 10\n",
    "DECK = 4*[ACE,2,3,4,5,6,7,8,9,10, JACK, QUEEN, KING]  # ignore suits; hearts, spades, clubs, diamonds"
   ]
  },
  {
   "cell_type": "code",
   "execution_count": 13,
   "metadata": {},
   "outputs": [
    {
     "name": "stdout",
     "output_type": "stream",
     "text": [
      "Drew 8 from deck\n"
     ]
    }
   ],
   "source": [
    "drawn_card = random.choice(DECK)\n",
    "print(f\"Drew {drawn_card} from deck\")\n",
    "# DECK.remove(drawn_card)\n",
    "# print(f\"Deck now has: {DECK}\")"
   ]
  },
  {
   "cell_type": "markdown",
   "metadata": {},
   "source": [
    "## Simulate an easy case\n",
    "dealer has 16, what are the chances they bust?"
   ]
  },
  {
   "cell_type": "code",
   "execution_count": 78,
   "metadata": {},
   "outputs": [
    {
     "name": "stdout",
     "output_type": "stream",
     "text": [
      "Dealer busted 30760 times out of 50000\n",
      "Chance of busting is 61.5%\n"
     ]
    }
   ],
   "source": [
    "NUM_OF_TRIALS = 50000  # How many sessions we want to simulate\n",
    "\n",
    "BUST_CNT = 0\n",
    "\n",
    "#fig, (ax1, ax2) = plt.subplots(ncols=1, nrows=2, figsize=(9.5, 7))\n",
    "#fig.tight_layout(pad=5.0)\n",
    "\n",
    "for i in range(NUM_OF_TRIALS):\n",
    "    dealer_total = 16\n",
    "    drawn_card = random.choice(DECK)\n",
    "    dealer_total += drawn_card\n",
    "    if dealer_total > 21:\n",
    "        BUST_CNT += 1\n",
    "        \n",
    "print(f\"Dealer busted {BUST_CNT} times out of {NUM_OF_TRIALS}\")\n",
    "print(f\"Chance of busting is {(BUST_CNT/NUM_OF_TRIALS)*100:.1f}%\")"
   ]
  },
  {
   "cell_type": "markdown",
   "metadata": {},
   "source": [
    "What should the player do? <br>\n",
    "Assume player hits only once"
   ]
  },
  {
   "cell_type": "code",
   "execution_count": 121,
   "metadata": {},
   "outputs": [
    {
     "name": "stdout",
     "output_type": "stream",
     "text": [
      "Chance of losing is 55.39%\n",
      "Chance of winning is 40.34%\n",
      "Chance of tie-ing is 4.27%\n"
     ]
    }
   ],
   "source": [
    "NUM_OF_TRIALS = 700000  # How many sessions we want to simulate\n",
    "\n",
    "\n",
    "BUST_CNT_PLAYER = 0\n",
    "BUST_CNT_DEALER = 0\n",
    "WIN_CNT = 0\n",
    "LOSE_CNT = 0\n",
    "TIE_CNT = 0\n",
    "\n",
    "for i in range(NUM_OF_TRIALS):\n",
    "    DECK = 4*[ACE,2,3,4,5,6,7,8,9,10, JACK, QUEEN, KING]\n",
    "    \n",
    "    player_total = 12\n",
    "    dealer_total = 6\n",
    "    \n",
    "    drawn_card = random.choice(DECK)\n",
    "    player_total += drawn_card\n",
    "    DECK.remove(drawn_card)\n",
    "    \n",
    "    while dealer_total <= 16:  # must hit on 16\n",
    "        drawn_card = random.choice(DECK)\n",
    "        dealer_total += random.choice(DECK)\n",
    "        DECK.remove(drawn_card)\n",
    "    \n",
    "    if player_total > 21:\n",
    "        BUST_CNT_PLAYER += 1\n",
    "        LOSE_CNT += 1\n",
    "    elif dealer_total > 21:\n",
    "        BUST_CNT_DEALER += 1\n",
    "        WIN_CNT += 1\n",
    "    elif player_total > dealer_total:\n",
    "        WIN_CNT += 1\n",
    "    elif player_total < dealer_total:\n",
    "        LOSE_CNT += 1\n",
    "    elif player_total == dealer_total:\n",
    "        TIE_CNT += 1\n",
    "    \n",
    "        \n",
    "# print(f\"Player busted {BUST_CNT} times out of {NUM_OF_TRIALS}\")\n",
    "# print(f\"Chance of player busting is {(BUST_CNT_PLAYER/NUM_OF_TRIALS)*100:.2f}%\")\n",
    "# print(f\"Chance of dealer busting is {(BUST_CNT_DEALER/NUM_OF_TRIALS)*100:.2f}%\")\n",
    "print(f\"Chance of losing is {(LOSE_CNT/NUM_OF_TRIALS)*100:.2f}%\")\n",
    "print(f\"Chance of winning is {(WIN_CNT/NUM_OF_TRIALS)*100:.2f}%\")\n",
    "print(f\"Chance of tie-ing is {(TIE_CNT/NUM_OF_TRIALS)*100:.2f}%\")"
   ]
  },
  {
   "cell_type": "markdown",
   "metadata": {},
   "source": [
    "NOTE: We're not using Ace correctly"
   ]
  },
  {
   "cell_type": "markdown",
   "metadata": {},
   "source": [
    "### Some cases the chances are pretty close; welcome deviations!"
   ]
  },
  {
   "cell_type": "markdown",
   "metadata": {},
   "source": [
    "|                 |   |  |\n",
    "| ----------- | ----------- | ----------- |\n",
    "|<img src=\"img/deviations_hard.JPG\"></img>|| |"
   ]
  },
  {
   "cell_type": "code",
   "execution_count": null,
   "metadata": {},
   "outputs": [],
   "source": []
  }
 ],
 "metadata": {
  "kernelspec": {
   "display_name": "Python 3",
   "language": "python",
   "name": "python3"
  }
 },
 "nbformat": 4,
 "nbformat_minor": 4
}
