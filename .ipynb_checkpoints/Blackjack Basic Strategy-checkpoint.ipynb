{
 "cells": [
  {
   "cell_type": "markdown",
   "metadata": {},
   "source": [
    "## What is Blackjack?\n",
    "\n",
    "#### Objective:\n",
    "Get a card value closer to 21 than the dealer. Going over is automatic loss\n",
    "\n",
    "#### Rules:\n",
    "- Dealer must hit on hard 16\n",
    "- Card values given below\n",
    "\n",
    "<img src=\"img/Blackjack-values.png\"> </img>\n",
    "\n",
    "#### Payout*:\n",
    "- Player getting blackjack (21) pays out 3:2\n",
    "- Player beating dealer pays 1:1\n",
    "\n",
    "*Other game/pay types exist. Usually not worth paying"
   ]
  },
  {
   "cell_type": "markdown",
   "metadata": {},
   "source": [
    "## Basic Strategy tells us what to do:\n",
    "\n",
    "|                 |   |  |\n",
    "| ----------- | ----------- | ----------- |\n",
    "|<img src=\"img/basic_strategy1.JPG\"></img>|<img src=\"img/basic_strategy2.JPG\"></img>|<img src=\"img/basic_strategy3.JPG\"></img>  |\n"
   ]
  },
  {
   "cell_type": "markdown",
   "metadata": {},
   "source": [
    "...but where does it come from? Let's find out"
   ]
  },
  {
   "cell_type": "code",
   "execution_count": null,
   "metadata": {},
   "outputs": [],
   "source": [
    "import random\n",
    "import matplotlib.pyplot as plt\n",
    "import numpy as np\n",
    "%matplotlib notebook"
   ]
  },
  {
   "cell_type": "code",
   "execution_count": 75,
   "metadata": {},
   "outputs": [],
   "source": [
    "ACE = 1  # or 11, ignore for now\n",
    "KING = 10\n",
    "QUEEN = 10\n",
    "JACK = 10\n",
    "DECK = 4*[ACE,2,3,4,5,6,7,8,9,10, JACK, QUEEN, KING]  # ignore suits; hearts, spades, clubs, diamonds"
   ]
  },
  {
   "cell_type": "code",
   "execution_count": 77,
   "metadata": {},
   "outputs": [
    {
     "name": "stdout",
     "output_type": "stream",
     "text": [
      "Drew 10 from deck\n",
      "Deck now has: [1, 2, 3, 4, 5, 6, 7, 8, 9, 10, 10, 10, 1, 2, 3, 4, 5, 6, 7, 8, 9, 10, 10, 10, 10, 1, 2, 3, 4, 5, 6, 7, 8, 9, 10, 10, 10, 10, 1, 2, 3, 4, 5, 6, 7, 8, 9, 10, 10, 10, 10]\n"
     ]
    }
   ],
   "source": [
    "drawn_card = random.choice(DECK)\n",
    "print(f\"Drew {drawn_card} from deck\")\n",
    "DECK.remove(drawn_card)\n",
    "print(f\"Deck now has: {DECK}\")"
   ]
  },
  {
   "cell_type": "markdown",
   "metadata": {},
   "source": [
    "## Simulate an easy case\n",
    "dealer has 16, what are the chances they bust?"
   ]
  },
  {
   "cell_type": "code",
   "execution_count": 143,
   "metadata": {},
   "outputs": [
    {
     "name": "stdout",
     "output_type": "stream",
     "text": [
      "Dealer busted 18858 times out of 50000\n",
      "Chance of busting is 37.7%\n"
     ]
    }
   ],
   "source": [
    "NUM_OF_TRIALS = 50000  # How many sessions we want to simulate\n",
    "\n",
    "BUST_CNT = 0\n",
    "\n",
    "#fig, (ax1, ax2) = plt.subplots(ncols=1, nrows=2, figsize=(9.5, 7))\n",
    "#fig.tight_layout(pad=5.0)\n",
    "\n",
    "for i in range(NUM_OF_TRIALS):\n",
    "    dealer_total = 13\n",
    "    drawn_card = random.choice(DECK)\n",
    "    dealer_total += drawn_card\n",
    "    #print(f\"Drew {drawn_card}, Dealer now has: {dealer_total}\")\n",
    "    if dealer_total > 21:\n",
    "        BUST_CNT += 1\n",
    "        \n",
    "print(f\"Dealer busted {BUST_CNT} times out of {NUM_OF_TRIALS}\")\n",
    "print(f\"Chance of busting is {(BUST_CNT/NUM_OF_TRIALS)*100:.1f}%\")"
   ]
  },
  {
   "cell_type": "markdown",
   "metadata": {},
   "source": [
    "What should the player do?"
   ]
  },
  {
   "cell_type": "code",
   "execution_count": 144,
   "metadata": {},
   "outputs": [
    {
     "name": "stdout",
     "output_type": "stream",
     "text": [
      "Player busted 14894 times out of 50000\n",
      "Chance of busting is 0.30%\n"
     ]
    }
   ],
   "source": [
    "NUM_OF_TRIALS = 50000  # How many sessions we want to simulate\n",
    "\n",
    "BUST_CNT = 0\n",
    "\n",
    "for i in range(NUM_OF_TRIALS):\n",
    "    player_total = 12\n",
    "    drawn_card = random.choice(DECK)\n",
    "    player_total += drawn_card\n",
    "    #print(f\"Drew {drawn_card}, Dealer now has: {dealer_total}\")\n",
    "    if player_total > 21:\n",
    "        BUST_CNT += 1\n",
    "        \n",
    "print(f\"Player busted {BUST_CNT} times out of {NUM_OF_TRIALS}\")\n",
    "print(f\"Chance of busting is {BUST_CNT/NUM_OF_TRIALS:.2f}%\")"
   ]
  },
  {
   "cell_type": "markdown",
   "metadata": {},
   "source": [
    "#### "
   ]
  }
 ],
 "metadata": {
  "kernelspec": {
   "display_name": "Python 3",
   "language": "python",
   "name": "python3"
  },
  "language_info": {
   "codemirror_mode": {
    "name": "ipython",
    "version": 3
   },
   "file_extension": ".py",
   "mimetype": "text/x-python",
   "name": "python",
   "nbconvert_exporter": "python",
   "pygments_lexer": "ipython3",
   "version": "3.8.5"
  }
 },
 "nbformat": 4,
 "nbformat_minor": 4
}
